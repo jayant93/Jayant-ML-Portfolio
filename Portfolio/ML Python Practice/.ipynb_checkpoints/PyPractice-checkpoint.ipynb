{
 "cells": [
  {
   "cell_type": "code",
   "execution_count": 1,
   "id": "3aa3eb0e",
   "metadata": {},
   "outputs": [
    {
     "name": "stdout",
     "output_type": "stream",
     "text": [
      "Hello World\n"
     ]
    }
   ],
   "source": [
    "print(\"Hello World\")"
   ]
  },
  {
   "cell_type": "code",
   "execution_count": 2,
   "id": "4da0d374",
   "metadata": {},
   "outputs": [
    {
     "name": "stdout",
     "output_type": "stream",
     "text": [
      "Hello World\n"
     ]
    }
   ],
   "source": [
    "print('Hello World')"
   ]
  },
  {
   "cell_type": "code",
   "execution_count": 3,
   "id": "6ca3426f",
   "metadata": {},
   "outputs": [
    {
     "name": "stdout",
     "output_type": "stream",
     "text": [
      "3.10.9 (main, Mar  1 2023, 12:20:14) [Clang 14.0.6 ]\n"
     ]
    }
   ],
   "source": [
    "import sys\n",
    "print(sys.version)"
   ]
  },
  {
   "cell_type": "code",
   "execution_count": 15,
   "id": "6818403f",
   "metadata": {},
   "outputs": [
    {
     "name": "stdout",
     "output_type": "stream",
     "text": [
      "15\n",
      "-8\n",
      "120\n",
      "0.2\n"
     ]
    }
   ],
   "source": [
    "#minicalculator\n",
    "class cal:\n",
    "    \n",
    "    def add(self,*a):\n",
    "        res = 0\n",
    "        for i in a:\n",
    "            res = res + i\n",
    "        return res\n",
    "    \n",
    "    def sub(self,a,b):\n",
    "        return b-a\n",
    "    \n",
    "    def mul(self,*a):\n",
    "        res = 1\n",
    "        for i in a:\n",
    "            res = res * i\n",
    "        return res\n",
    "    \n",
    "    def div(self,a,b):\n",
    "        return b/a\n",
    "\n",
    "calculator = cal()\n",
    "print(calculator.add(1,2,3,4,5))\n",
    "print(calculator.sub(10,2))\n",
    "print(calculator.mul(1,2,3,4,5))\n",
    "print(calculator.div(10,2))\n"
   ]
  },
  {
   "cell_type": "code",
   "execution_count": 19,
   "id": "850321f3",
   "metadata": {},
   "outputs": [
    {
     "name": "stdout",
     "output_type": "stream",
     "text": [
      "120\n"
     ]
    }
   ],
   "source": [
    " #factorialfunction\n",
    "def fact(n):\n",
    "    factorial_n = 1\n",
    "    for i in range(n,1,-1):\n",
    "        factorial_n = factorial_n * i\n",
    "    return factorial_n\n",
    "\n",
    "print(fact(5))"
   ]
  },
  {
   "cell_type": "code",
   "execution_count": 31,
   "id": "26694950",
   "metadata": {},
   "outputs": [
    {
     "name": "stdout",
     "output_type": "stream",
     "text": [
      "This is the newly file created\n"
     ]
    }
   ],
   "source": [
    "file = open(\"pytest.txt\",\"r\")\n",
    "#file.write(\"This is the newly file created\")\n",
    "print(file.read())"
   ]
  },
  {
   "cell_type": "code",
   "execution_count": 38,
   "id": "98c57f32",
   "metadata": {},
   "outputs": [
    {
     "name": "stdout",
     "output_type": "stream",
     "text": [
      "['setosa' 'versicolor' 'virginica']\n",
      "   sepal length (cm)  sepal width (cm)  petal length (cm)  petal width (cm)  \\\n",
      "0                5.1               3.5                1.4               0.2   \n",
      "1                4.9               3.0                1.4               0.2   \n",
      "2                4.7               3.2                1.3               0.2   \n",
      "3                4.6               3.1                1.5               0.2   \n",
      "4                5.0               3.6                1.4               0.2   \n",
      "\n",
      "  species_name  \n",
      "0       setosa  \n",
      "1       setosa  \n",
      "2       setosa  \n",
      "3       setosa  \n",
      "4       setosa  \n"
     ]
    }
   ],
   "source": [
    "from sklearn.datasets import load_iris\n",
    "import pandas as pd\n",
    "iris = load_iris()\n",
    "print(iris.target_names)\n",
    "#print(iris.target)\n",
    "df = pd.DataFrame(iris.data, columns=iris.feature_names)\n",
    "#df['species'] = iris.target # using target vector(type of flower) and creating a new column in data frame to represent species\n",
    "#print(df[df['species'] == 1])#data filtering using species as target vector 1 representing versicolor\n",
    "# ✅ Map numeric code to species name using iris.target_names\n",
    "df['species_name'] = pd.Categorical.from_codes(iris.target, iris.target_names)\n",
    "print(df.head())"
   ]
  },
  {
   "cell_type": "code",
   "execution_count": 41,
   "id": "aaea5f3e",
   "metadata": {},
   "outputs": [
    {
     "data": {
      "image/png": "[encoded data removed]",
      "text/plain": [
       "<Figure size 640x480 with 1 Axes>"
      ]
     },
     "metadata": {},
     "output_type": "display_data"
    }
   ],
   "source": [
    "import matplotlib.pyplot as plt\n",
    "plt.hist(df['sepal length (cm)'], bins=30,edgecolor='black')\n",
    "plt.title('Histogram for Sepal Length')\n",
    "plt.xlabel('Sepal Length (cm)')\n",
    "plt.ylabel('Frequency')\n",
    "plt.show()\n"
   ]
  },
  {
   "cell_type": "code",
   "execution_count": null,
   "id": "570cdfdd",
   "metadata": {},
   "outputs": [],
   "source": []
  }
 ],
 "metadata": {
  "kernelspec": {
   "display_name": "Python 3 (ipykernel)",
   "language": "python",
   "name": "python3"
  },
  "language_info": {
   "codemirror_mode": {
    "name": "ipython",
    "version": 3
   },
   "file_extension": ".py",
   "mimetype": "text/x-python",
   "name": "python",
   "nbconvert_exporter": "python",
   "pygments_lexer": "ipython3",
   "version": "3.10.9"
  }
 },
 "nbformat": 4,
 "nbformat_minor": 5
}
